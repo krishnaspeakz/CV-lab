{
 "cells": [
  {
   "cell_type": "code",
   "execution_count": 2,
   "id": "07d44032",
   "metadata": {},
   "outputs": [],
   "source": [
    "#week_1\n",
    "import cv2\n",
    "x = cv2.imread('ok.jpeg')\n",
    "cv2.imshow('Img',x)\n",
    "cv2.waitKey()\n",
    "cv2.destroyAllWindows()"
   ]
  },
  {
   "cell_type": "code",
   "execution_count": 7,
   "id": "a483a9b7",
   "metadata": {},
   "outputs": [],
   "source": [
    "#read and writing a video file\n",
    "import cv2\n",
    "cap = cv2.VideoCapture('in.mp4')\n",
    "if(cap.isOpened() == False):\n",
    "    print(\"error\")\n",
    "while(cap.isOpened()):\n",
    "    ret, frame = cap.read()\n",
    "    if(ret == True):\n",
    "        cv2.imshow('Frame',frame)\n",
    "        if(cv2.waitKey(25) & 0xFF == ord('q')):\n",
    "            break\n",
    "    else:\n",
    "        break\n",
    "cap.release()\n",
    "cv2.destroyAllWindows()"
   ]
  },
  {
   "cell_type": "code",
   "execution_count": 11,
   "id": "583f390c",
   "metadata": {},
   "outputs": [],
   "source": [
    "# Image enhancement.\n",
    "import cv2\n",
    "\n",
    "x = cv2.imread('ok.jpeg')\n",
    "\n",
    "a = 1.5\n",
    "b = 50\n",
    "y = cv2.convertScaleAbs(x,alpha = a,beta = b)\n",
    "cv2.imshow('org',x)\n",
    "cv2.imshow('Img',y)\n",
    "cv2.waitKey()\n",
    "cv2.destroyAllWindows()"
   ]
  },
  {
   "cell_type": "code",
   "execution_count": 44,
   "id": "3eb39dd9",
   "metadata": {
    "scrolled": true
   },
   "outputs": [
    {
     "name": "stdout",
     "output_type": "stream",
     "text": [
      "71808609\n",
      "99.01631091255068\n",
      "96.5306138253667\n",
      "0\n",
      "255\n"
     ]
    }
   ],
   "source": [
    "#WEEK_2\n",
    "import cv2\n",
    "import numpy as np\n",
    "x = cv2.imread('ok.jpeg')\n",
    "\n",
    "x_sum = np.sum(x);\n",
    "x_avg = np.mean(x);\n",
    "x_std = np.std(x);\n",
    "x_min = np.min(x);\n",
    "x_max = np.max(x);\n",
    "print(x_sum)\n",
    "print(x_avg)\n",
    "print(x_std)\n",
    "print(x_min)\n",
    "print(x_max)"
   ]
  },
  {
   "cell_type": "code",
   "execution_count": 13,
   "id": "7f88c0ba",
   "metadata": {},
   "outputs": [],
   "source": [
    "# Week_3 Contrast Adjustmet.\n",
    "import cv2\n",
    "\n",
    "x = cv2.imread('ok.jpeg')\n",
    "a = 1.5\n",
    "b = 50\n",
    "y = cv2.convertScaleAbs(x,alpha = a,beta = b)\n",
    "cv2.imshow('org',x)\n",
    "cv2.imshow('Img',y)\n",
    "cv2.waitKey()\n",
    "cv2.destroyAllWindows()"
   ]
  },
  {
   "cell_type": "code",
   "execution_count": null,
   "id": "c6883118",
   "metadata": {},
   "outputs": [],
   "source": [
    "#Week_4 filtering operations\n",
    "import cv2\n",
    "import numpy as np\n",
    "x = cv2.imread('ok.jpeg')\n",
    "bl = cv2.bilateralFilter(x,7,75,75)\n",
    "ker = np.ones((5,5),np.float32)/25\n",
    "dst = cv2.filter2D(x,-7,ker)\n",
    "gblur = cv2.GaussianBlur(x,(5,5),0)\n",
    "blur = cv2.blur(x,(5,5))\n",
    "med = cv2.medianBlur(x,7)\n",
    "cv2.imshow('image',x)\n",
    "cv2.imshow('2Dconv_image',dst)\n",
    "cv2.imshow('bilateral_img',bl)\n",
    "cv2.imshow('blurred',blur)\n",
    "cv2.imshow('Gaussian Blurred',gblur)\n",
    "cv2.waitKey(0)\n",
    "cv2.destroyAllWindows()"
   ]
  },
  {
   "cell_type": "code",
   "execution_count": 17,
   "id": "6fa9c743",
   "metadata": {},
   "outputs": [],
   "source": [
    "#Week_5 Morphological operations\n",
    "import cv2\n",
    "import numpy as np\n",
    "x = cv2.imread('ok.png')\n",
    "ker = np.ones((5,5),np.uint8)\n",
    "erosion = cv2.erode(x,ker,iterations = 1)\n",
    "dilation = cv2.dilate(x,ker,iterations = 1)\n",
    "opening = cv2.morphologyEx(x,cv2.MORPH_OPEN,ker)\n",
    "closing = cv2.morphologyEx(x,cv2.MORPH_CLOSE,ker)\n",
    "cv2.imshow('Input Image', x)\n",
    "cv2.imshow('Erosion', erosion)\n",
    "cv2.imshow('Dilation', dilation)\n",
    "cv2.imshow('Opening', opening)\n",
    "cv2.imshow('Closing', closing)\n",
    "cv2.waitKey(0)\n",
    "cv2.destroyAllWindows()"
   ]
  },
  {
   "cell_type": "code",
   "execution_count": 22,
   "id": "28253c79",
   "metadata": {},
   "outputs": [],
   "source": [
    "#week_6 Both combined\n",
    "import cv2\n",
    "import numpy as np\n",
    "x = cv2.imread('ok.jpeg')\n",
    "\n",
    "gray = cv2.cvtColor(x,cv2.COLOR_BGR2GRAY)\n",
    "blur = cv2.GaussianBlur(gray,(3,3),0)\n",
    "\n",
    "sobelx = cv2.Sobel(src = gray,ddepth = cv2.CV_64F,dx = 1, dy = 0,ksize = 5)\n",
    "sobely = cv2.Sobel(src = gray,ddepth = cv2.CV_64F,dx = 0, dy = 1,ksize = 5)\n",
    "sobelxy = cv2.Sobel(src = gray,ddepth = cv2.CV_64F,dx = 1, dy = 1,ksize = 5)\n",
    "ed = cv2.Canny(x,100,200)\n",
    "cv2.imshow('x', sobelx)\n",
    "cv2.imshow('y', sobely)\n",
    "cv2.imshow('xt', sobelxy)\n",
    "cv2.imshow('edge', ed)\n",
    "cv2.waitKey(0)\n",
    "cv2.destroyAllWindows()"
   ]
  },
  {
   "cell_type": "code",
   "execution_count": 25,
   "id": "f3a87bd3",
   "metadata": {},
   "outputs": [],
   "source": [
    "#week 7 SIFT\n",
    "import cv2\n",
    "import numpy as np\n",
    "x = cv2.imread('ok.jpeg')\n",
    "gray = cv2.cvtColor(x,cv2.COLOR_BGR2GRAY)\n",
    "sift = cv2.SIFT_create()\n",
    "kp = sift.detect(gray,None)\n",
    "\n",
    "x = cv2.drawKeypoints(gray,kp,x,flags = cv2.DRAW_MATCHES_FLAGS_DRAW_RICH_KEYPOINTS)\n",
    "\n",
    "cv2.imshow('SIFT Keypoints', x)\n",
    "cv2.waitKey(0)\n",
    "cv2.destroyAllWindows()"
   ]
  },
  {
   "cell_type": "code",
   "execution_count": 27,
   "id": "0db59722",
   "metadata": {},
   "outputs": [],
   "source": [
    "#week_8 Histogram Equalization\n",
    "import cv2\n",
    "import numpy as np\n",
    "x = cv2.imread('ok.jpeg',cv2.IMREAD_GRAYSCALE)\n",
    "hist = cv2.calcHist([x],[0],None,[256],[0,256])\n",
    "eq = cv2.equalizeHist(x)\n",
    "cv2.imshow('org', x)\n",
    "cv2.imshow('equal', eq)\n",
    "cv2.waitKey(0)\n",
    "cv2.destroyAllWindows()"
   ]
  },
  {
   "cell_type": "code",
   "execution_count": 30,
   "id": "8a8abb73",
   "metadata": {},
   "outputs": [],
   "source": [
    "#week_9 2D spatial\n",
    "import cv2\n",
    "import numpy as np\n",
    "x = cv2.imread('ok.jpeg')\n",
    "sca = cv2.resize(x,None,fx = 2,fy = 2,interpolation = cv2.INTER_AREA)\n",
    "rows,cols,h = x.shape\n",
    "m = np.float32([[1,0,100],[0,1,50]])\n",
    "trans = cv2.warpAffine(x,m,(cols,rows))\n",
    "\n",
    "m = cv2.getRotationMatrix2D(((cols-1)/2.0,(rows-1)/2.0),90,1)\n",
    "rot = cv2.warpAffine(x,m,(cols,rows))\n",
    "\n",
    "cv2.imshow('Original Image', x)\n",
    "cv2.imshow('Scaled Image', sca)\n",
    "cv2.imshow('Translation',trans)\n",
    "cv2.imshow('Rotation', rot)\n",
    "cv2.waitKey(0)\n",
    "cv2.destroyAllWindows()"
   ]
  },
  {
   "cell_type": "code",
   "execution_count": 33,
   "id": "7a60d0bb",
   "metadata": {},
   "outputs": [],
   "source": [
    "#week_10 cmy and hsv\n",
    "import cv2\n",
    "x = cv2.imread('ok.jpeg')\n",
    "cmy = 255 - x\n",
    "hsv = cv2.cvtColor(x,cv2.COLOR_BGR2HSV)\n",
    "cv2.imshow('org',x)\n",
    "cv2.imshow('cmy',cmy)\n",
    "cv2.imshow('hsv', hsv)\n",
    "cv2.waitKey(0)\n",
    "cv2.destroyAllWindows()"
   ]
  },
  {
   "cell_type": "code",
   "execution_count": 36,
   "id": "d2805fae",
   "metadata": {},
   "outputs": [],
   "source": [
    "#week_11 Feature Extraction\n",
    "import cv2\n",
    "import numpy as np\n",
    "x = cv2.imread('ok.jpeg')\n",
    "\n",
    "y = cv2.cvtColor(x,cv2.COLOR_BGR2GRAY)\n",
    "y = np.float32(y);\n",
    "\n",
    "z = cv2.cornerHarris(y,2,5,0.07)\n",
    "z = cv2.dilate(z,None)\n",
    "x[z > 0.01 * z.max()] = [0,0,255]\n",
    "cv2.imshow('feature',x)\n",
    "cv2.waitKey(0)\n",
    "cv2.destroyAllWindows()"
   ]
  },
  {
   "cell_type": "code",
   "execution_count": 42,
   "id": "7228aa8b",
   "metadata": {},
   "outputs": [],
   "source": [
    "#week_14 Hough Line detection\n",
    "import cv2\n",
    "import numpy as np\n",
    "x = cv2.imread('chipi.jpeg')\n",
    "gray = cv2.cvtColor(x,cv2.COLOR_BGR2GRAY)\n",
    "edges = cv2.Canny(gray,50,150,apertureSize = 3)\n",
    "lines = cv2.HoughLines(edges,1,np.pi/180,250)\n",
    "\n",
    "if lines is not None:\n",
    "    for rho,theta in lines[:,0]:\n",
    "        a = np.cos(theta)\n",
    "        b = np.sin(theta)\n",
    "        x0 = a * rho\n",
    "        y0 = b * rho\n",
    "        x1 = int(x0 + 1000 * (-b))\n",
    "        y1 = int(y0 + 1000 * (a))\n",
    "        x2 = int(x0 - 1000 * (-b))\n",
    "        y2 = int(y0 - 1000 * (a))\n",
    "        cv2.line(x,(x1,y1),(x2,y2),(0,0,255),2)\n",
    "cv2.imshow('Detected',x)\n",
    "cv2.waitKey(0)\n",
    "cv2.destroyAllWindows()"
   ]
  },
  {
   "cell_type": "code",
   "execution_count": 43,
   "id": "ae7bda6b",
   "metadata": {},
   "outputs": [],
   "source": [
    "#WEEK_17 face Detection\n",
    "import cv2\n",
    "x = cv2.imread('babu.jpeg')\n",
    "fac = cv2.CascadeClassifier('haarcascade_frontalface_default.xml')\n",
    "gray = cv2.cvtColor(x,cv2.COLOR_BGR2GRAY)\n",
    "faces = fac.detectMultiScale(gray,1.1,4)\n",
    "\n",
    "for(i,y,w,h) in faces:\n",
    "    cv2.rectangle(x,(i,y),(i+w,y+h),(255,0),2)\n",
    "cv2.imshow('Detected',x)\n",
    "cv2.waitKey(0)\n",
    "cv2.destroyAllWindows()"
   ]
  },
  {
   "cell_type": "code",
   "execution_count": null,
   "id": "a56cfa6b",
   "metadata": {},
   "outputs": [],
   "source": []
  }
 ],
 "metadata": {
  "kernelspec": {
   "display_name": "Python 3 (ipykernel)",
   "language": "python",
   "name": "python3"
  },
  "language_info": {
   "codemirror_mode": {
    "name": "ipython",
    "version": 3
   },
   "file_extension": ".py",
   "mimetype": "text/x-python",
   "name": "python",
   "nbconvert_exporter": "python",
   "pygments_lexer": "ipython3",
   "version": "3.10.9"
  }
 },
 "nbformat": 4,
 "nbformat_minor": 5
}
